{
 "cells": [
  {
   "cell_type": "markdown",
   "id": "c65bb0bd",
   "metadata": {},
   "source": [
    "# 📊 Exploratory Data Analysis – HealthTrack Insights\n",
    "\n",
    "This notebook explores and visualizes the behavioral patterns and demographic composition of HealthTrack users. The data has been cleaned and structured into multiple related tables."
   ]
  },
  {
   "cell_type": "markdown",
   "id": "d94bcd5b",
   "metadata": {},
   "source": [
    "## 1. Load Cleaned Data"
   ]
  },
  {
   "cell_type": "code",
   "execution_count": null,
   "id": "a4a287df",
   "metadata": {},
   "outputs": [],
   "source": [
    "import pandas as pd\n",
    "\n",
    "# Load data from clean CSVs\n",
    "users = pd.read_csv(\"clean_data/clean_users.csv\", sep=\";\")\n",
    "activity = pd.read_csv(\"clean_data/clean_daily_activity.csv\")\n",
    "sleep = pd.read_csv(\"clean_data/clean_sleep_logs.csv\")\n",
    "meals = pd.read_csv(\"clean_data/clean_meal_tracking.csv\")\n",
    "events = pd.read_csv(\"clean_data/clean_engagement_events.csv\")"
   ]
  },
  {
   "cell_type": "markdown",
   "id": "c0ed02ab",
   "metadata": {},
   "source": [
    "## 2. Initial Exploration"
   ]
  },
  {
   "cell_type": "code",
   "execution_count": null,
   "id": "fbb240fa",
   "metadata": {},
   "outputs": [],
   "source": [
    "# Shape and columns\n",
    "print(\"Users table shape:\", users.shape)\n",
    "print(\"Activity logs shape:\", activity.shape)\n",
    "print(\"Sleep logs shape:\", sleep.shape)\n",
    "print(\"Meals shape:\", meals.shape)\n",
    "print(\"Engagement events shape:\", events.shape)"
   ]
  },
  {
   "cell_type": "code",
   "execution_count": null,
   "id": "ed614192",
   "metadata": {},
   "outputs": [],
   "source": [
    "# Data types and first rows\n",
    "users.info()\n",
    "users.head()"
   ]
  },
  {
   "cell_type": "markdown",
   "id": "51804e16",
   "metadata": {},
   "source": [
    "## 3. Missing Values Analysis"
   ]
  },
  {
   "cell_type": "code",
   "execution_count": null,
   "id": "0e77cde1",
   "metadata": {},
   "outputs": [],
   "source": [
    "users.isna().sum().sort_values(ascending=False)"
   ]
  },
  {
   "cell_type": "markdown",
   "id": "2eadbeee",
   "metadata": {},
   "source": [
    "## 4. Key Visualizations (Monochrome Style)"
   ]
  },
  {
   "cell_type": "markdown",
   "id": "b3f332a3",
   "metadata": {},
   "source": [
    "### 4.1 Gender Distribution"
   ]
  },
  {
   "cell_type": "code",
   "execution_count": null,
   "id": "d35f7cb0",
   "metadata": {},
   "outputs": [],
   "source": [
    "from IPython.display import Image\n",
    "Image('eda_images/gender_distribution.png')"
   ]
  },
  {
   "cell_type": "markdown",
   "id": "c12d3b4e",
   "metadata": {},
   "source": [
    "**Observations:**\n",
    "- Gender distribution is mostly binary (M/F).\n",
    "- A notable portion is unspecified or 'O'."
   ]
  },
  {
   "cell_type": "markdown",
   "id": "883ffed2",
   "metadata": {},
   "source": [
    "### 4.2 Region Distribution"
   ]
  },
  {
   "cell_type": "code",
   "execution_count": null,
   "id": "28ee3b1a",
   "metadata": {},
   "outputs": [],
   "source": [
    "Image('eda_images/region_distribution.png')"
   ]
  },
  {
   "cell_type": "markdown",
   "id": "4884e5b3",
   "metadata": {},
   "source": [
    "### 4.3 Sleep Score Distribution"
   ]
  },
  {
   "cell_type": "markdown",
   "id": "3a205e86",
   "metadata": {},
   "source": [
    "**Observations:**\n",
    "- Most users are concentrated in North America and Europe.\n",
    "- LATAM and APAC are underrepresented."
   ]
  },
  {
   "cell_type": "code",
   "execution_count": null,
   "id": "57c063e1",
   "metadata": {},
   "outputs": [],
   "source": [
    "Image('eda_images/sleep_score_distribution.png')"
   ]
  },
  {
   "cell_type": "markdown",
   "id": "5e6b73a8",
   "metadata": {},
   "source": [
    "### 4.4 Sleep Hours vs Activity Duration"
   ]
  },
  {
   "cell_type": "code",
   "execution_count": null,
   "id": "8e335c3b",
   "metadata": {},
   "outputs": [],
   "source": [
    "Image('eda_images/sleep_vs_activity.png')"
   ]
  },
  {
   "cell_type": "markdown",
   "id": "fcdb308c",
   "metadata": {},
   "source": [
    "**Observations:**\n",
    "- Sleep scores are mostly between 65 and 90.\n",
    "- Distribution is slightly left-skewed, indicating many users score above average."
   ]
  },
  {
   "cell_type": "markdown",
   "id": "f92b4447",
   "metadata": {},
   "source": [
    "### 4.5 User Engagement Events"
   ]
  },
  {
   "cell_type": "code",
   "execution_count": null,
   "id": "eea3dd11",
   "metadata": {},
   "outputs": [],
   "source": [
    "Image('eda_images/user_engagement_events.png')"
   ]
  },
  {
   "cell_type": "markdown",
   "id": "8521b04a",
   "metadata": {},
   "source": [
    "**Observations:**\n",
    "- Most common events are 'notification_clicked' and 'challenge_joined'.\n",
    "- Engagement strategy can leverage these behaviors."
   ]
  },
  {
   "cell_type": "markdown",
   "id": "c3c33537",
   "metadata": {},
   "source": [
    "**Observations:**\n",
    "- There's a mild positive trend between hours slept and activity duration.\n",
    "- Users who sleep more tend to stay more active."
   ]
  },
  {
   "cell_type": "code",
   "execution_count": null,
   "id": "b152ca04",
   "metadata": {},
   "outputs": [],
   "source": [
    "# Missing values per table\n",
    "print(\"Users missing values:\")\n",
    "print(users.isna().sum())\n",
    "print(\"\\nSleep logs missing values:\")\n",
    "print(sleep.isna().sum())\n",
    "print(\"\\nMeals missing values:\")\n",
    "print(meals.isna().sum())\n",
    "print(\"\\nActivity missing values:\")\n",
    "print(activity.isna().sum())"
   ]
  },
  {
   "cell_type": "markdown",
   "id": "45110a86",
   "metadata": {},
   "source": [
    "## 5. Summary of Key Metrics\n",
    "\n",
    "This section calculates high-level metrics to summarize user behavior and wellness trends."
   ]
  },
  {
   "cell_type": "code",
   "execution_count": null,
   "id": "85b00777",
   "metadata": {},
   "outputs": [],
   "source": [
    "# KPI Summary\n",
    "print(\"Average daily sessions:\", activity['sessions'].mean())\n",
    "print(\"Average session duration (min):\", activity['duration_min'].mean())\n",
    "print(\"Average sleep score:\", sleep['sleep_score'].mean())\n",
    "print(\"Avg. hours slept:\", sleep['hours_slept'].mean())\n",
    "print(\"Meal logs per user:\", meals.groupby('user_id').size().mean())\n",
    "print(\"Engagement events per user:\", events.groupby('user_id').size().mean())"
   ]
  }
 ],
 "metadata": {
  "kernelspec": {
   "display_name": "Python 3",
   "name": "python3"
  }
 },
 "nbformat": 4,
 "nbformat_minor": 5
}
